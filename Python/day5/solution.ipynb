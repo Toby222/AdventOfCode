{
 "cells": [
  {
   "cell_type": "code",
   "execution_count": 1,
   "metadata": {},
   "outputs": [],
   "source": [
    "import re"
   ]
  },
  {
   "cell_type": "code",
   "execution_count": 2,
   "metadata": {},
   "outputs": [],
   "source": [
    "# Get puzzle input from input file\n",
    "\n",
    "puzzle_input = open(\"input\").read().split(\"\\n\")"
   ]
  },
  {
   "cell_type": "markdown",
   "metadata": {},
   "source": [
    "# Part 1 #"
   ]
  },
  {
   "cell_type": "code",
   "execution_count": 3,
   "metadata": {
    "tags": []
   },
   "outputs": [
    {
     "name": "stdout",
     "output_type": "stream",
     "text": [
      "238\n"
     ]
    }
   ],
   "source": [
    "double_letter_test = re.compile(r\"(.)\\1\", re.IGNORECASE)\n",
    "unnice_test = re.compile(r\"ab|cd|pq|xy\", re.IGNORECASE)\n",
    "\n",
    "def filter_function_part_one(line: str) -> bool:\n",
    "    return (sum(map(line.lower().count, \"aeiou\")) >= 3) and bool(not unnice_test.search(line)) and bool(double_letter_test.search(line))\n",
    "\n",
    "filtered_lines = list(filter(\n",
    "    filter_function_part_one,\n",
    "    puzzle_input\n",
    "))\n",
    "print(len(filtered_lines))"
   ]
  },
  {
   "cell_type": "markdown",
   "metadata": {},
   "source": [
    "# Part 2 #"
   ]
  },
  {
   "cell_type": "code",
   "execution_count": 4,
   "metadata": {},
   "outputs": [
    {
     "name": "stdout",
     "output_type": "stream",
     "text": [
      "69\n"
     ]
    }
   ],
   "source": [
    "def filter_function_part_two(line: str) -> bool:\n",
    "    return re.findall(r\"(..).*\\1\", line) and re.findall(r\"(.).\\1\", line)\n",
    "\n",
    "filtered_lines = filter(\n",
    "    filter_function_part_two,\n",
    "    puzzle_input\n",
    ")\n",
    "print(len(list(filtered_lines)))"
   ]
  },
  {
   "cell_type": "code",
   "execution_count": null,
   "metadata": {},
   "outputs": [],
   "source": []
  }
 ],
 "metadata": {
  "kernelspec": {
   "display_name": "Python 3",
   "language": "python",
   "name": "python3"
  },
  "language_info": {
   "codemirror_mode": {
    "name": "ipython",
    "version": 3
   },
   "file_extension": ".py",
   "mimetype": "text/x-python",
   "name": "python",
   "nbconvert_exporter": "python",
   "pygments_lexer": "ipython3",
   "version": "3.8.6"
  }
 },
 "nbformat": 4,
 "nbformat_minor": 4
}
